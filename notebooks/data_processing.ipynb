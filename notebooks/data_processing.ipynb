{
 "cells": [
  {
   "cell_type": "code",
   "execution_count": 1,
   "id": "dd091fe1-7883-40c7-8922-25c4271ccf62",
   "metadata": {},
   "outputs": [],
   "source": [
    "import pandas as pd\n",
    "import numpy as np\n",
    "%load_ext autoreload\n",
    "%autoreload 2\n",
    "import json\n",
    "import re"
   ]
  },
  {
   "cell_type": "code",
   "execution_count": 2,
   "id": "cda3e437-1a8d-4842-831a-7ed2a533a8fc",
   "metadata": {},
   "outputs": [],
   "source": [
    "from sklearn.feature_extraction import FeatureHasher\n",
    "from sklearn.preprocessing import OneHotEncoder"
   ]
  },
  {
   "cell_type": "code",
   "execution_count": 3,
   "id": "627c1e79-1c30-429a-9562-dd16888c6107",
   "metadata": {},
   "outputs": [],
   "source": [
    "from sklearn.metrics import precision_recall_curve\n",
    "from matplotlib import pyplot as plt"
   ]
  },
  {
   "cell_type": "code",
   "execution_count": 4,
   "id": "ea3480bc-30a6-45a9-9295-99aaebce7218",
   "metadata": {},
   "outputs": [],
   "source": [
    "import xgboost as xgb\n",
    "from sklearn.metrics import accuracy_score, classification_report, confusion_matrix"
   ]
  },
  {
   "cell_type": "code",
   "execution_count": 5,
   "id": "f69f0157-8643-4806-a345-bbb89a0632e9",
   "metadata": {},
   "outputs": [],
   "source": [
    "from sklearn.metrics import log_loss, roc_auc_score, make_scorer"
   ]
  },
  {
   "cell_type": "code",
   "execution_count": 6,
   "id": "5c07d7b4-9fb5-4af2-99fb-b9c8900296dc",
   "metadata": {},
   "outputs": [],
   "source": [
    "from sklearn.model_selection import StratifiedKFold\n",
    "from sklearn.model_selection import GridSearchCV, train_test_split"
   ]
  },
  {
   "cell_type": "code",
   "execution_count": 7,
   "id": "6d395efc-9672-421d-b4f8-e16e0d36e19f",
   "metadata": {},
   "outputs": [],
   "source": [
    "from utils_preprocess import *"
   ]
  },
  {
   "cell_type": "code",
   "execution_count": 8,
   "id": "1cee80e3-5abf-44ad-8e89-251e76ad271f",
   "metadata": {},
   "outputs": [],
   "source": [
    "from transformation_pipeline import *"
   ]
  },
  {
   "cell_type": "code",
   "execution_count": 9,
   "id": "226736da-116d-48ab-b790-4e120c25b7ea",
   "metadata": {},
   "outputs": [],
   "source": [
    "with open('column_types.json', 'r') as json_file:\n",
    "        column_types = json.load(json_file)"
   ]
  },
  {
   "cell_type": "code",
   "execution_count": 10,
   "id": "ee621e2d-fa68-4712-a007-b69443c534e3",
   "metadata": {},
   "outputs": [],
   "source": [
    "train = pd.read_parquet(\"train.parquet\")"
   ]
  },
  {
   "cell_type": "code",
   "execution_count": 94,
   "id": "116571cc-867b-46b6-8638-faa630ef7040",
   "metadata": {},
   "outputs": [],
   "source": [
    "\n",
    "train[:1000].to_parquet('train_test.parquet')"
   ]
  },
  {
   "cell_type": "code",
   "execution_count": 11,
   "id": "8f58ef8f-c845-4720-8559-67563e06e814",
   "metadata": {},
   "outputs": [],
   "source": [
    "test = pd.read_parquet(\"test.parquet\")"
   ]
  },
  {
   "cell_type": "code",
   "execution_count": 12,
   "id": "e013c7b8-cd8a-4863-830c-64dec42d10bb",
   "metadata": {},
   "outputs": [],
   "source": [
    "train.dropna(axis=1, how='all', inplace = True)\n",
    "test.dropna(axis=1, how='all', inplace = True)"
   ]
  },
  {
   "cell_type": "code",
   "execution_count": 13,
   "id": "3b07efc7-f591-4034-852e-a043d7ba0969",
   "metadata": {},
   "outputs": [],
   "source": [
    "timestamp_columns = column_types.get('timestamp', [])\n",
    "categorical_columns = column_types.get('categorical', [])\n",
    "numerical_columns = column_types.get('numerical', [])\n",
    "json_columns = column_types.get('aggregates', [])"
   ]
  },
  {
   "cell_type": "markdown",
   "id": "e34d25b9-9e11-46fc-8af6-b20450b31146",
   "metadata": {},
   "source": [
    "## 1- Clean column names"
   ]
  },
  {
   "cell_type": "code",
   "execution_count": 19,
   "id": "0c8b9d0e-a4b4-4e68-a7c8-6dcb0a6b501f",
   "metadata": {},
   "outputs": [],
   "source": [
    "train.columns = [clean_column_name(col) for col in train.columns]"
   ]
  },
  {
   "cell_type": "code",
   "execution_count": 20,
   "id": "57e9f883-026b-4cf3-9e75-19cabf556f7c",
   "metadata": {},
   "outputs": [],
   "source": [
    "test.columns = [clean_column_name(col) for col in train.columns]"
   ]
  },
  {
   "cell_type": "markdown",
   "id": "e4b0d1c8-ea03-46f3-81bc-260d75a45728",
   "metadata": {},
   "source": [
    "## 2- Change data types"
   ]
  },
  {
   "cell_type": "code",
   "execution_count": 21,
   "id": "c1445f86-546e-4765-b9e3-df78dab4622b",
   "metadata": {},
   "outputs": [],
   "source": [
    "train = change_data_types(train, column_types)"
   ]
  },
  {
   "cell_type": "code",
   "execution_count": 22,
   "id": "bd19b042-0465-43a6-9d2c-5c904719aace",
   "metadata": {},
   "outputs": [],
   "source": [
    "test = change_data_types(test, column_types)"
   ]
  },
  {
   "cell_type": "markdown",
   "id": "bd31e70d-4adc-4048-9013-758bfa72ebe6",
   "metadata": {},
   "source": [
    "## 3- Split to train/test"
   ]
  },
  {
   "cell_type": "markdown",
   "id": "eee53b0e-a023-4e84-a4be-37faa78cdf35",
   "metadata": {},
   "source": [
    "## 4- Preprocessing"
   ]
  },
  {
   "cell_type": "code",
   "execution_count": 81,
   "id": "8dc6232c-7191-4f7c-975f-b6f3175393fc",
   "metadata": {},
   "outputs": [],
   "source": [
    "columns_to_drop = ['bid_id', 'bid_timestamp', 'user_id', \"purchase_since_install\", 'install_date', 'session_start_date', 'previous_session_start_date', \"install_label\" ]"
   ]
  },
  {
   "cell_type": "code",
   "execution_count": 82,
   "id": "7e9449f3-1fb2-4efd-90df-9d32b9a454cd",
   "metadata": {},
   "outputs": [],
   "source": [
    "train_transformed = train.drop(columns = columns_to_drop)"
   ]
  },
  {
   "cell_type": "code",
   "execution_count": 83,
   "id": "db3dc921-5578-41b5-9f8b-0f9f528fbaee",
   "metadata": {},
   "outputs": [],
   "source": [
    "test_transformed = test.drop(columns = columns_to_drop)"
   ]
  },
  {
   "cell_type": "code",
   "execution_count": 84,
   "id": "0a93d09a-8a7f-4610-a636-3c00e00f89e2",
   "metadata": {},
   "outputs": [],
   "source": [
    "cat_features = categorical_columns"
   ]
  },
  {
   "cell_type": "code",
   "execution_count": 85,
   "id": "829c63b9-93f0-407c-be6c-a790b86ea229",
   "metadata": {},
   "outputs": [],
   "source": [
    "list_features =['first_x_session_description', 'current_x_session_description','previous_x_session_description']"
   ]
  },
  {
   "cell_type": "code",
   "execution_count": 86,
   "id": "ab060aa1-ba2a-4025-a33c-c01f1259b2d7",
   "metadata": {},
   "outputs": [],
   "source": [
    "dict_features = ['previous_session_cpm', 'revenues', 'revenues_since_install']"
   ]
  },
  {
   "cell_type": "code",
   "execution_count": 87,
   "id": "ed1243a2-1338-463f-875f-ddd262c7e98b",
   "metadata": {},
   "outputs": [],
   "source": [
    "aggregated_features = ['game_count_in_last_1_days__by_source_app',\n",
    " 'game_count_in_last_7_days__by_source_app',\n",
    " 'game_count_in_last_28_days__by_source_app',\n",
    " 'sessions_in_last_1_days__by_source_app',\n",
    " 'sessions_in_last_7_days__by_source_app',\n",
    " 'sessions_in_last_28_days__by_source_app',\n",
    " 'rv_watched_in_last_1_days__by_source_app',\n",
    " 'rv_watched_in_last_7_days__by_source_app',\n",
    " 'rv_watched_in_last_28_days__by_source_app',\n",
    " 'fs_watched_in_last_1_days__by_source_app',\n",
    " 'fs_watched_in_last_7_days__by_source_app',\n",
    " 'fs_watched_in_last_28_days__by_source_app',\n",
    " 'rv_shown_in_last_1_days__by_source_app',\n",
    " 'rv_shown_in_last_7_days__by_source_app',\n",
    " 'rv_shown_in_last_28_days__by_source_app',\n",
    " 'fs_shown_in_last_1_days__by_source_app',\n",
    " 'fs_shown_in_last_7_days__by_source_app',\n",
    " 'fs_shown_in_last_28_days__by_source_app',\n",
    " 'session_length_in_last_1_days__by_source_app',\n",
    " 'session_length_in_last_7_days__by_source_app',\n",
    " 'session_length_in_last_28_days__by_source_app',\n",
    " 'game_length_in_last_1_days__by_source_app',\n",
    " 'game_length_in_last_7_days__by_source_app',\n",
    " 'game_length_in_last_28_days__by_source_app',\n",
    " 'game_finished_count_in_last_1_days__by_source_app',\n",
    " 'game_finished_count_in_last_7_days__by_source_app',\n",
    " 'game_finished_count_in_last_28_days__by_source_app',\n",
    " 'impression_count_in_last_1_days__by_promoted_entity',\n",
    " 'impression_count_in_last_7_days__by_promoted_entity',\n",
    " 'impression_count_in_last_28_days__by_promoted_entity']"
   ]
  },
  {
   "cell_type": "code",
   "execution_count": 88,
   "id": "e218184d-915a-41ff-b763-5178090685c7",
   "metadata": {},
   "outputs": [],
   "source": [
    "columns_types= {\"numerical_features\": numerical_columns,\n",
    "                \"cat_features\": cat_features,\n",
    "                \"dict_features\": dict_features,\n",
    "                \"aggregated_features\": aggregated_features,\n",
    "                \"list_features\": list_features,\n",
    "                \"timestamp_features\": timestamp_columns\n",
    "                }"
   ]
  },
  {
   "cell_type": "code",
   "execution_count": 89,
   "id": "77622b81-bf10-467b-8de7-02971b223106",
   "metadata": {},
   "outputs": [],
   "source": [
    "with open('column_types.json', 'w') as json_file:\n",
    "    json.dump(column_types, json_file)"
   ]
  },
  {
   "cell_type": "code",
   "execution_count": 90,
   "id": "6078c3b0-8227-4138-abfe-1b46ebc3487c",
   "metadata": {},
   "outputs": [],
   "source": [
    "transformations_metadata = {\n",
    "    \"numerical\": {\n",
    "        \"columns\": numerical_columns,\n",
    "        \"transformations\": []\n",
    "    },\n",
    "    \"list_features\": {\n",
    "        \"columns\": list_features,\n",
    "        \"transformations\": [\"aggergate_impressions\"]  ##\n",
    "    },\n",
    "    \"dict_features\": {\n",
    "        \"columns\": dict_features,\n",
    "        \"transformations\": [\"expand_all_column\"]  ## \n",
    "    },\n",
    "\n",
    "     \"aggregated_features\": {\n",
    "        \"columns\": aggregated_features,\n",
    "        \"transformations\": [\"expand_top_apps\"]  ##\n",
    "    },\n",
    "\n",
    "    \"cat_features\": {\n",
    "        \"columns\": cat_features,\n",
    "        \"transformations\": [\"encoder\"]  ##\"\"\n",
    "    }\n",
    "    \n",
    "}\n",
    "with open('transformations_metadata.json', 'w') as json_file:\n",
    "    json.dump(transformations_metadata, json_file)"
   ]
  },
  {
   "cell_type": "code",
   "execution_count": 91,
   "id": "b8131fb1-5ed1-4c4e-bb03-486082e34e18",
   "metadata": {},
   "outputs": [
    {
     "ename": "TypeError",
     "evalue": "Object of type ExpandDictStep is not JSON serializable",
     "output_type": "error",
     "traceback": [
      "\u001b[0;31m---------------------------------------------------------------------------\u001b[0m",
      "\u001b[0;31mTypeError\u001b[0m                                 Traceback (most recent call last)",
      "Cell \u001b[0;32mIn[91], line 10\u001b[0m\n\u001b[1;32m      1\u001b[0m function_map \u001b[38;5;241m=\u001b[39m {\n\u001b[1;32m      2\u001b[0m    \n\u001b[1;32m      3\u001b[0m     \u001b[38;5;124m\"\u001b[39m\u001b[38;5;124mexpand_all_column\u001b[39m\u001b[38;5;124m\"\u001b[39m: ExpandDictStep(),\n\u001b[0;32m   (...)\u001b[0m\n\u001b[1;32m      7\u001b[0m    \n\u001b[1;32m      8\u001b[0m }\n\u001b[1;32m      9\u001b[0m \u001b[38;5;28;01mwith\u001b[39;00m \u001b[38;5;28mopen\u001b[39m(\u001b[38;5;124m'\u001b[39m\u001b[38;5;124mfunction_map.json\u001b[39m\u001b[38;5;124m'\u001b[39m, \u001b[38;5;124m'\u001b[39m\u001b[38;5;124mw\u001b[39m\u001b[38;5;124m'\u001b[39m) \u001b[38;5;28;01mas\u001b[39;00m json_file:\n\u001b[0;32m---> 10\u001b[0m     \u001b[43mjson\u001b[49m\u001b[38;5;241;43m.\u001b[39;49m\u001b[43mdump\u001b[49m\u001b[43m(\u001b[49m\u001b[43mfunction_map\u001b[49m\u001b[43m,\u001b[49m\u001b[43m \u001b[49m\u001b[43mjson_file\u001b[49m\u001b[43m)\u001b[49m\n",
      "File \u001b[0;32m/opt/python_3.12.2/lib/python3.12/json/__init__.py:179\u001b[0m, in \u001b[0;36mdump\u001b[0;34m(obj, fp, skipkeys, ensure_ascii, check_circular, allow_nan, cls, indent, separators, default, sort_keys, **kw)\u001b[0m\n\u001b[1;32m    173\u001b[0m     iterable \u001b[38;5;241m=\u001b[39m \u001b[38;5;28mcls\u001b[39m(skipkeys\u001b[38;5;241m=\u001b[39mskipkeys, ensure_ascii\u001b[38;5;241m=\u001b[39mensure_ascii,\n\u001b[1;32m    174\u001b[0m         check_circular\u001b[38;5;241m=\u001b[39mcheck_circular, allow_nan\u001b[38;5;241m=\u001b[39mallow_nan, indent\u001b[38;5;241m=\u001b[39mindent,\n\u001b[1;32m    175\u001b[0m         separators\u001b[38;5;241m=\u001b[39mseparators,\n\u001b[1;32m    176\u001b[0m         default\u001b[38;5;241m=\u001b[39mdefault, sort_keys\u001b[38;5;241m=\u001b[39msort_keys, \u001b[38;5;241m*\u001b[39m\u001b[38;5;241m*\u001b[39mkw)\u001b[38;5;241m.\u001b[39miterencode(obj)\n\u001b[1;32m    177\u001b[0m \u001b[38;5;66;03m# could accelerate with writelines in some versions of Python, at\u001b[39;00m\n\u001b[1;32m    178\u001b[0m \u001b[38;5;66;03m# a debuggability cost\u001b[39;00m\n\u001b[0;32m--> 179\u001b[0m \u001b[43m\u001b[49m\u001b[38;5;28;43;01mfor\u001b[39;49;00m\u001b[43m \u001b[49m\u001b[43mchunk\u001b[49m\u001b[43m \u001b[49m\u001b[38;5;129;43;01min\u001b[39;49;00m\u001b[43m \u001b[49m\u001b[43miterable\u001b[49m\u001b[43m:\u001b[49m\n\u001b[1;32m    180\u001b[0m \u001b[43m    \u001b[49m\u001b[43mfp\u001b[49m\u001b[38;5;241;43m.\u001b[39;49m\u001b[43mwrite\u001b[49m\u001b[43m(\u001b[49m\u001b[43mchunk\u001b[49m\u001b[43m)\u001b[49m\n",
      "File \u001b[0;32m/opt/python_3.12.2/lib/python3.12/json/encoder.py:432\u001b[0m, in \u001b[0;36m_make_iterencode.<locals>._iterencode\u001b[0;34m(o, _current_indent_level)\u001b[0m\n\u001b[1;32m    430\u001b[0m     \u001b[38;5;28;01myield from\u001b[39;00m _iterencode_list(o, _current_indent_level)\n\u001b[1;32m    431\u001b[0m \u001b[38;5;28;01melif\u001b[39;00m \u001b[38;5;28misinstance\u001b[39m(o, \u001b[38;5;28mdict\u001b[39m):\n\u001b[0;32m--> 432\u001b[0m     \u001b[38;5;28;01myield from\u001b[39;00m _iterencode_dict(o, _current_indent_level)\n\u001b[1;32m    433\u001b[0m \u001b[38;5;28;01melse\u001b[39;00m:\n\u001b[1;32m    434\u001b[0m     \u001b[38;5;28;01mif\u001b[39;00m markers \u001b[38;5;129;01mis\u001b[39;00m \u001b[38;5;129;01mnot\u001b[39;00m \u001b[38;5;28;01mNone\u001b[39;00m:\n",
      "File \u001b[0;32m/opt/python_3.12.2/lib/python3.12/json/encoder.py:406\u001b[0m, in \u001b[0;36m_make_iterencode.<locals>._iterencode_dict\u001b[0;34m(dct, _current_indent_level)\u001b[0m\n\u001b[1;32m    404\u001b[0m         \u001b[38;5;28;01melse\u001b[39;00m:\n\u001b[1;32m    405\u001b[0m             chunks \u001b[38;5;241m=\u001b[39m _iterencode(value, _current_indent_level)\n\u001b[0;32m--> 406\u001b[0m         \u001b[38;5;28;01myield from\u001b[39;00m chunks\n\u001b[1;32m    407\u001b[0m \u001b[38;5;28;01mif\u001b[39;00m newline_indent \u001b[38;5;129;01mis\u001b[39;00m \u001b[38;5;129;01mnot\u001b[39;00m \u001b[38;5;28;01mNone\u001b[39;00m:\n\u001b[1;32m    408\u001b[0m     _current_indent_level \u001b[38;5;241m-\u001b[39m\u001b[38;5;241m=\u001b[39m \u001b[38;5;241m1\u001b[39m\n",
      "File \u001b[0;32m/opt/python_3.12.2/lib/python3.12/json/encoder.py:439\u001b[0m, in \u001b[0;36m_make_iterencode.<locals>._iterencode\u001b[0;34m(o, _current_indent_level)\u001b[0m\n\u001b[1;32m    437\u001b[0m         \u001b[38;5;28;01mraise\u001b[39;00m \u001b[38;5;167;01mValueError\u001b[39;00m(\u001b[38;5;124m\"\u001b[39m\u001b[38;5;124mCircular reference detected\u001b[39m\u001b[38;5;124m\"\u001b[39m)\n\u001b[1;32m    438\u001b[0m     markers[markerid] \u001b[38;5;241m=\u001b[39m o\n\u001b[0;32m--> 439\u001b[0m o \u001b[38;5;241m=\u001b[39m \u001b[43m_default\u001b[49m\u001b[43m(\u001b[49m\u001b[43mo\u001b[49m\u001b[43m)\u001b[49m\n\u001b[1;32m    440\u001b[0m \u001b[38;5;28;01myield from\u001b[39;00m _iterencode(o, _current_indent_level)\n\u001b[1;32m    441\u001b[0m \u001b[38;5;28;01mif\u001b[39;00m markers \u001b[38;5;129;01mis\u001b[39;00m \u001b[38;5;129;01mnot\u001b[39;00m \u001b[38;5;28;01mNone\u001b[39;00m:\n",
      "File \u001b[0;32m/opt/python_3.12.2/lib/python3.12/json/encoder.py:180\u001b[0m, in \u001b[0;36mJSONEncoder.default\u001b[0;34m(self, o)\u001b[0m\n\u001b[1;32m    161\u001b[0m \u001b[38;5;28;01mdef\u001b[39;00m \u001b[38;5;21mdefault\u001b[39m(\u001b[38;5;28mself\u001b[39m, o):\n\u001b[1;32m    162\u001b[0m \u001b[38;5;250m    \u001b[39m\u001b[38;5;124;03m\"\"\"Implement this method in a subclass such that it returns\u001b[39;00m\n\u001b[1;32m    163\u001b[0m \u001b[38;5;124;03m    a serializable object for ``o``, or calls the base implementation\u001b[39;00m\n\u001b[1;32m    164\u001b[0m \u001b[38;5;124;03m    (to raise a ``TypeError``).\u001b[39;00m\n\u001b[0;32m   (...)\u001b[0m\n\u001b[1;32m    178\u001b[0m \n\u001b[1;32m    179\u001b[0m \u001b[38;5;124;03m    \"\"\"\u001b[39;00m\n\u001b[0;32m--> 180\u001b[0m     \u001b[38;5;28;01mraise\u001b[39;00m \u001b[38;5;167;01mTypeError\u001b[39;00m(\u001b[38;5;124mf\u001b[39m\u001b[38;5;124m'\u001b[39m\u001b[38;5;124mObject of type \u001b[39m\u001b[38;5;132;01m{\u001b[39;00mo\u001b[38;5;241m.\u001b[39m\u001b[38;5;18m__class__\u001b[39m\u001b[38;5;241m.\u001b[39m\u001b[38;5;18m__name__\u001b[39m\u001b[38;5;132;01m}\u001b[39;00m\u001b[38;5;124m \u001b[39m\u001b[38;5;124m'\u001b[39m\n\u001b[1;32m    181\u001b[0m                     \u001b[38;5;124mf\u001b[39m\u001b[38;5;124m'\u001b[39m\u001b[38;5;124mis not JSON serializable\u001b[39m\u001b[38;5;124m'\u001b[39m)\n",
      "\u001b[0;31mTypeError\u001b[0m: Object of type ExpandDictStep is not JSON serializable"
     ]
    }
   ],
   "source": [
    "\n",
    "\n",
    "with open('function_map.json', 'w') as json_file:\n",
    "    json.dump(function_map, json_file)"
   ]
  },
  {
   "cell_type": "code",
   "execution_count": 23,
   "id": "6a4532d9-7010-4573-8b2a-81d27628ea65",
   "metadata": {},
   "outputs": [],
   "source": [
    "\n",
    "\n",
    "\n",
    "\n",
    "\n",
    "pipeline = TransformationPipeline()\n",
    "\n",
    "# Set transformations metadata before adding steps\n",
    "pipeline.transformations_metadata = transformations_metadata\n",
    "\n",
    "\n",
    "for group_name, group_info in transformations_metadata.items():\n",
    "    for transformation_name in group_info[\"transformations\"]:\n",
    "        transformation = function_map[transformation_name]\n",
    "        if hasattr(transformation, \"fit_transform\"): \n",
    "            pipeline.add_step(\n",
    "                f\"{transformation_name}\",\n",
    "                transformation,\n",
    "                group_info[\"columns\"]\n",
    "            )\n",
    "        else:  # Handles custom function-based transformations\n",
    "            for column in group_info[\"columns\"]:\n",
    "                pipeline.add_step(\n",
    "                    f\"{transformation_name}\",\n",
    "                    FunctionStep(transformation),\n",
    "                    [column]\n",
    "                )"
   ]
  },
  {
   "cell_type": "code",
   "execution_count": 31,
   "id": "455d3f36-5dd6-4306-935e-99dda739719f",
   "metadata": {},
   "outputs": [],
   "source": [
    "# Fit and transform\n",
    "train_data = pipeline.fit_transform(train_transformed)"
   ]
  },
  {
   "cell_type": "code",
   "execution_count": 32,
   "id": "422c10c6-15aa-4067-90f2-c74736c6436c",
   "metadata": {},
   "outputs": [],
   "source": [
    "# Save the pipeline and metadata\n",
    "pipeline.save_pipeline(\"fitted_pipeline.pkl\", \"pipeline_metadata.json\")"
   ]
  },
  {
   "cell_type": "code",
   "execution_count": 97,
   "id": "67b37906-8f9e-4667-a5f5-fb93d02da2aa",
   "metadata": {},
   "outputs": [],
   "source": [
    "loaded_pipeline = TransformationPipeline().load_pipeline(\"fitted_pipeline.pkl\", \"pipeline_metadata.json\", function_map)"
   ]
  },
  {
   "cell_type": "code",
   "execution_count": null,
   "id": "8ca7dee2-33a9-44e8-a4cf-691ee62ad044",
   "metadata": {},
   "outputs": [],
   "source": []
  },
  {
   "cell_type": "code",
   "execution_count": 98,
   "id": "f92957b2-3dfa-4898-ae72-ca95bb03892e",
   "metadata": {},
   "outputs": [
    {
     "ename": "KeyboardInterrupt",
     "evalue": "",
     "output_type": "error",
     "traceback": [
      "\u001b[0;31m---------------------------------------------------------------------------\u001b[0m",
      "\u001b[0;31mKeyboardInterrupt\u001b[0m                         Traceback (most recent call last)",
      "Cell \u001b[0;32mIn[98], line 1\u001b[0m\n\u001b[0;32m----> 1\u001b[0m test_data \u001b[38;5;241m=\u001b[39m \u001b[43mloaded_pipeline\u001b[49m\u001b[38;5;241;43m.\u001b[39;49m\u001b[43mtransform\u001b[49m\u001b[43m(\u001b[49m\u001b[43mtest_transformed\u001b[49m\u001b[43m)\u001b[49m\n",
      "File \u001b[0;32m/home/sagemaker-user/mangopay/experiments/test/transformation_pipeline.py:233\u001b[0m, in \u001b[0;36mTransformationPipeline.transform\u001b[0;34m(self, data)\u001b[0m\n\u001b[1;32m    228\u001b[0m \u001b[38;5;28;01mif\u001b[39;00m \u001b[38;5;28mhasattr\u001b[39m(step, \u001b[38;5;124m\"\u001b[39m\u001b[38;5;124mtransform\u001b[39m\u001b[38;5;124m\"\u001b[39m):\n\u001b[1;32m    229\u001b[0m    \n\u001b[1;32m    230\u001b[0m     \u001b[38;5;66;03m# Handle expanded outputs\u001b[39;00m\n\u001b[1;32m    231\u001b[0m     \u001b[38;5;28;01mif\u001b[39;00m \u001b[38;5;28mhasattr\u001b[39m(step, \u001b[38;5;124m\"\u001b[39m\u001b[38;5;124mget_feature_names_out\u001b[39m\u001b[38;5;124m\"\u001b[39m):\n\u001b[0;32m--> 233\u001b[0m         transformed \u001b[38;5;241m=\u001b[39m \u001b[43mstep\u001b[49m\u001b[38;5;241;43m.\u001b[39;49m\u001b[43mtransform\u001b[49m\u001b[43m(\u001b[49m\u001b[43mdata\u001b[49m\u001b[43m[\u001b[49m\u001b[43mcolumn\u001b[49m\u001b[43m]\u001b[49m\u001b[43m)\u001b[49m\n\u001b[1;32m    234\u001b[0m         \u001b[38;5;66;03m# Use get_feature_names_out for feature name generation\u001b[39;00m\n\u001b[1;32m    235\u001b[0m         transformed\u001b[38;5;241m.\u001b[39mcolumns \u001b[38;5;241m=\u001b[39m step\u001b[38;5;241m.\u001b[39mget_feature_names_out(data,[column])\n",
      "File \u001b[0;32m/home/sagemaker-user/mangopay/experiments/test/transformation_pipeline.py:92\u001b[0m, in \u001b[0;36mAggregateImpressionsStep.transform\u001b[0;34m(self, data)\u001b[0m\n\u001b[1;32m     89\u001b[0m         \u001b[38;5;28;01mreturn\u001b[39;00m [\u001b[38;5;241m0\u001b[39m, \u001b[38;5;241m0\u001b[39m, \u001b[38;5;241m0\u001b[39m, \u001b[38;5;241m0\u001b[39m, \u001b[38;5;241m0\u001b[39m, \u001b[38;5;241m0\u001b[39m, \u001b[38;5;241m0\u001b[39m]\n\u001b[1;32m     91\u001b[0m \u001b[38;5;66;03m# Apply feature extraction\u001b[39;00m\n\u001b[0;32m---> 92\u001b[0m transformed \u001b[38;5;241m=\u001b[39m \u001b[43mdata\u001b[49m\u001b[38;5;241;43m.\u001b[39;49m\u001b[43mapply\u001b[49m\u001b[43m(\u001b[49m\u001b[43mextract_features\u001b[49m\u001b[43m)\u001b[49m\n\u001b[1;32m     94\u001b[0m \u001b[38;5;66;03m# Convert to DataFrame\u001b[39;00m\n\u001b[1;32m     95\u001b[0m transformed_df \u001b[38;5;241m=\u001b[39m pd\u001b[38;5;241m.\u001b[39mDataFrame(\n\u001b[1;32m     96\u001b[0m     transformed\u001b[38;5;241m.\u001b[39mtolist(),\n\u001b[1;32m     97\u001b[0m     \u001b[38;5;66;03m#columns=transformed.columns,\u001b[39;00m\n\u001b[1;32m     98\u001b[0m     index\u001b[38;5;241m=\u001b[39mdata\u001b[38;5;241m.\u001b[39mindex\n\u001b[1;32m     99\u001b[0m )\n",
      "File \u001b[0;32m~/daftlearning/venv/lib/python3.12/site-packages/pandas/core/series.py:4924\u001b[0m, in \u001b[0;36mSeries.apply\u001b[0;34m(self, func, convert_dtype, args, by_row, **kwargs)\u001b[0m\n\u001b[1;32m   4789\u001b[0m \u001b[38;5;28;01mdef\u001b[39;00m \u001b[38;5;21mapply\u001b[39m(\n\u001b[1;32m   4790\u001b[0m     \u001b[38;5;28mself\u001b[39m,\n\u001b[1;32m   4791\u001b[0m     func: AggFuncType,\n\u001b[0;32m   (...)\u001b[0m\n\u001b[1;32m   4796\u001b[0m     \u001b[38;5;241m*\u001b[39m\u001b[38;5;241m*\u001b[39mkwargs,\n\u001b[1;32m   4797\u001b[0m ) \u001b[38;5;241m-\u001b[39m\u001b[38;5;241m>\u001b[39m DataFrame \u001b[38;5;241m|\u001b[39m Series:\n\u001b[1;32m   4798\u001b[0m \u001b[38;5;250m    \u001b[39m\u001b[38;5;124;03m\"\"\"\u001b[39;00m\n\u001b[1;32m   4799\u001b[0m \u001b[38;5;124;03m    Invoke function on values of Series.\u001b[39;00m\n\u001b[1;32m   4800\u001b[0m \n\u001b[0;32m   (...)\u001b[0m\n\u001b[1;32m   4915\u001b[0m \u001b[38;5;124;03m    dtype: float64\u001b[39;00m\n\u001b[1;32m   4916\u001b[0m \u001b[38;5;124;03m    \"\"\"\u001b[39;00m\n\u001b[1;32m   4917\u001b[0m     \u001b[38;5;28;01mreturn\u001b[39;00m \u001b[43mSeriesApply\u001b[49m\u001b[43m(\u001b[49m\n\u001b[1;32m   4918\u001b[0m \u001b[43m        \u001b[49m\u001b[38;5;28;43mself\u001b[39;49m\u001b[43m,\u001b[49m\n\u001b[1;32m   4919\u001b[0m \u001b[43m        \u001b[49m\u001b[43mfunc\u001b[49m\u001b[43m,\u001b[49m\n\u001b[1;32m   4920\u001b[0m \u001b[43m        \u001b[49m\u001b[43mconvert_dtype\u001b[49m\u001b[38;5;241;43m=\u001b[39;49m\u001b[43mconvert_dtype\u001b[49m\u001b[43m,\u001b[49m\n\u001b[1;32m   4921\u001b[0m \u001b[43m        \u001b[49m\u001b[43mby_row\u001b[49m\u001b[38;5;241;43m=\u001b[39;49m\u001b[43mby_row\u001b[49m\u001b[43m,\u001b[49m\n\u001b[1;32m   4922\u001b[0m \u001b[43m        \u001b[49m\u001b[43margs\u001b[49m\u001b[38;5;241;43m=\u001b[39;49m\u001b[43margs\u001b[49m\u001b[43m,\u001b[49m\n\u001b[1;32m   4923\u001b[0m \u001b[43m        \u001b[49m\u001b[43mkwargs\u001b[49m\u001b[38;5;241;43m=\u001b[39;49m\u001b[43mkwargs\u001b[49m\u001b[43m,\u001b[49m\n\u001b[0;32m-> 4924\u001b[0m \u001b[43m    \u001b[49m\u001b[43m)\u001b[49m\u001b[38;5;241;43m.\u001b[39;49m\u001b[43mapply\u001b[49m\u001b[43m(\u001b[49m\u001b[43m)\u001b[49m\n",
      "File \u001b[0;32m~/daftlearning/venv/lib/python3.12/site-packages/pandas/core/apply.py:1427\u001b[0m, in \u001b[0;36mSeriesApply.apply\u001b[0;34m(self)\u001b[0m\n\u001b[1;32m   1424\u001b[0m     \u001b[38;5;28;01mreturn\u001b[39;00m \u001b[38;5;28mself\u001b[39m\u001b[38;5;241m.\u001b[39mapply_compat()\n\u001b[1;32m   1426\u001b[0m \u001b[38;5;66;03m# self.func is Callable\u001b[39;00m\n\u001b[0;32m-> 1427\u001b[0m \u001b[38;5;28;01mreturn\u001b[39;00m \u001b[38;5;28;43mself\u001b[39;49m\u001b[38;5;241;43m.\u001b[39;49m\u001b[43mapply_standard\u001b[49m\u001b[43m(\u001b[49m\u001b[43m)\u001b[49m\n",
      "File \u001b[0;32m~/daftlearning/venv/lib/python3.12/site-packages/pandas/core/apply.py:1507\u001b[0m, in \u001b[0;36mSeriesApply.apply_standard\u001b[0;34m(self)\u001b[0m\n\u001b[1;32m   1501\u001b[0m \u001b[38;5;66;03m# row-wise access\u001b[39;00m\n\u001b[1;32m   1502\u001b[0m \u001b[38;5;66;03m# apply doesn't have a `na_action` keyword and for backward compat reasons\u001b[39;00m\n\u001b[1;32m   1503\u001b[0m \u001b[38;5;66;03m# we need to give `na_action=\"ignore\"` for categorical data.\u001b[39;00m\n\u001b[1;32m   1504\u001b[0m \u001b[38;5;66;03m# TODO: remove the `na_action=\"ignore\"` when that default has been changed in\u001b[39;00m\n\u001b[1;32m   1505\u001b[0m \u001b[38;5;66;03m#  Categorical (GH51645).\u001b[39;00m\n\u001b[1;32m   1506\u001b[0m action \u001b[38;5;241m=\u001b[39m \u001b[38;5;124m\"\u001b[39m\u001b[38;5;124mignore\u001b[39m\u001b[38;5;124m\"\u001b[39m \u001b[38;5;28;01mif\u001b[39;00m \u001b[38;5;28misinstance\u001b[39m(obj\u001b[38;5;241m.\u001b[39mdtype, CategoricalDtype) \u001b[38;5;28;01melse\u001b[39;00m \u001b[38;5;28;01mNone\u001b[39;00m\n\u001b[0;32m-> 1507\u001b[0m mapped \u001b[38;5;241m=\u001b[39m \u001b[43mobj\u001b[49m\u001b[38;5;241;43m.\u001b[39;49m\u001b[43m_map_values\u001b[49m\u001b[43m(\u001b[49m\n\u001b[1;32m   1508\u001b[0m \u001b[43m    \u001b[49m\u001b[43mmapper\u001b[49m\u001b[38;5;241;43m=\u001b[39;49m\u001b[43mcurried\u001b[49m\u001b[43m,\u001b[49m\u001b[43m \u001b[49m\u001b[43mna_action\u001b[49m\u001b[38;5;241;43m=\u001b[39;49m\u001b[43maction\u001b[49m\u001b[43m,\u001b[49m\u001b[43m \u001b[49m\u001b[43mconvert\u001b[49m\u001b[38;5;241;43m=\u001b[39;49m\u001b[38;5;28;43mself\u001b[39;49m\u001b[38;5;241;43m.\u001b[39;49m\u001b[43mconvert_dtype\u001b[49m\n\u001b[1;32m   1509\u001b[0m \u001b[43m\u001b[49m\u001b[43m)\u001b[49m\n\u001b[1;32m   1511\u001b[0m \u001b[38;5;28;01mif\u001b[39;00m \u001b[38;5;28mlen\u001b[39m(mapped) \u001b[38;5;129;01mand\u001b[39;00m \u001b[38;5;28misinstance\u001b[39m(mapped[\u001b[38;5;241m0\u001b[39m], ABCSeries):\n\u001b[1;32m   1512\u001b[0m     \u001b[38;5;66;03m# GH#43986 Need to do list(mapped) in order to get treated as nested\u001b[39;00m\n\u001b[1;32m   1513\u001b[0m     \u001b[38;5;66;03m#  See also GH#25959 regarding EA support\u001b[39;00m\n\u001b[1;32m   1514\u001b[0m     \u001b[38;5;28;01mreturn\u001b[39;00m obj\u001b[38;5;241m.\u001b[39m_constructor_expanddim(\u001b[38;5;28mlist\u001b[39m(mapped), index\u001b[38;5;241m=\u001b[39mobj\u001b[38;5;241m.\u001b[39mindex)\n",
      "File \u001b[0;32m~/daftlearning/venv/lib/python3.12/site-packages/pandas/core/base.py:921\u001b[0m, in \u001b[0;36mIndexOpsMixin._map_values\u001b[0;34m(self, mapper, na_action, convert)\u001b[0m\n\u001b[1;32m    918\u001b[0m \u001b[38;5;28;01mif\u001b[39;00m \u001b[38;5;28misinstance\u001b[39m(arr, ExtensionArray):\n\u001b[1;32m    919\u001b[0m     \u001b[38;5;28;01mreturn\u001b[39;00m arr\u001b[38;5;241m.\u001b[39mmap(mapper, na_action\u001b[38;5;241m=\u001b[39mna_action)\n\u001b[0;32m--> 921\u001b[0m \u001b[38;5;28;01mreturn\u001b[39;00m \u001b[43malgorithms\u001b[49m\u001b[38;5;241;43m.\u001b[39;49m\u001b[43mmap_array\u001b[49m\u001b[43m(\u001b[49m\u001b[43marr\u001b[49m\u001b[43m,\u001b[49m\u001b[43m \u001b[49m\u001b[43mmapper\u001b[49m\u001b[43m,\u001b[49m\u001b[43m \u001b[49m\u001b[43mna_action\u001b[49m\u001b[38;5;241;43m=\u001b[39;49m\u001b[43mna_action\u001b[49m\u001b[43m,\u001b[49m\u001b[43m \u001b[49m\u001b[43mconvert\u001b[49m\u001b[38;5;241;43m=\u001b[39;49m\u001b[43mconvert\u001b[49m\u001b[43m)\u001b[49m\n",
      "File \u001b[0;32m~/daftlearning/venv/lib/python3.12/site-packages/pandas/core/algorithms.py:1743\u001b[0m, in \u001b[0;36mmap_array\u001b[0;34m(arr, mapper, na_action, convert)\u001b[0m\n\u001b[1;32m   1741\u001b[0m values \u001b[38;5;241m=\u001b[39m arr\u001b[38;5;241m.\u001b[39mastype(\u001b[38;5;28mobject\u001b[39m, copy\u001b[38;5;241m=\u001b[39m\u001b[38;5;28;01mFalse\u001b[39;00m)\n\u001b[1;32m   1742\u001b[0m \u001b[38;5;28;01mif\u001b[39;00m na_action \u001b[38;5;129;01mis\u001b[39;00m \u001b[38;5;28;01mNone\u001b[39;00m:\n\u001b[0;32m-> 1743\u001b[0m     \u001b[38;5;28;01mreturn\u001b[39;00m \u001b[43mlib\u001b[49m\u001b[38;5;241;43m.\u001b[39;49m\u001b[43mmap_infer\u001b[49m\u001b[43m(\u001b[49m\u001b[43mvalues\u001b[49m\u001b[43m,\u001b[49m\u001b[43m \u001b[49m\u001b[43mmapper\u001b[49m\u001b[43m,\u001b[49m\u001b[43m \u001b[49m\u001b[43mconvert\u001b[49m\u001b[38;5;241;43m=\u001b[39;49m\u001b[43mconvert\u001b[49m\u001b[43m)\u001b[49m\n\u001b[1;32m   1744\u001b[0m \u001b[38;5;28;01melse\u001b[39;00m:\n\u001b[1;32m   1745\u001b[0m     \u001b[38;5;28;01mreturn\u001b[39;00m lib\u001b[38;5;241m.\u001b[39mmap_infer_mask(\n\u001b[1;32m   1746\u001b[0m         values, mapper, mask\u001b[38;5;241m=\u001b[39misna(values)\u001b[38;5;241m.\u001b[39mview(np\u001b[38;5;241m.\u001b[39muint8), convert\u001b[38;5;241m=\u001b[39mconvert\n\u001b[1;32m   1747\u001b[0m     )\n",
      "File \u001b[0;32mlib.pyx:2972\u001b[0m, in \u001b[0;36mpandas._libs.lib.map_infer\u001b[0;34m()\u001b[0m\n",
      "File \u001b[0;32m/home/sagemaker-user/mangopay/experiments/test/transformation_pipeline.py:77\u001b[0m, in \u001b[0;36mAggregateImpressionsStep.transform.<locals>.extract_features\u001b[0;34m(row)\u001b[0m\n\u001b[1;32m     75\u001b[0m \u001b[38;5;28;01mdef\u001b[39;00m \u001b[38;5;21mextract_features\u001b[39m(row):\n\u001b[1;32m     76\u001b[0m     \u001b[38;5;28;01mif\u001b[39;00m \u001b[38;5;28misinstance\u001b[39m(row,(\u001b[38;5;28mlist\u001b[39m, np\u001b[38;5;241m.\u001b[39mndarray) ):\n\u001b[0;32m---> 77\u001b[0m         df \u001b[38;5;241m=\u001b[39m \u001b[43mpd\u001b[49m\u001b[38;5;241;43m.\u001b[39;49m\u001b[43mDataFrame\u001b[49m\u001b[43m(\u001b[49m\u001b[43mrow\u001b[49m\u001b[38;5;241;43m.\u001b[39;49m\u001b[43mtolist\u001b[49m\u001b[43m(\u001b[49m\u001b[43m)\u001b[49m\u001b[43m)\u001b[49m\n\u001b[1;32m     78\u001b[0m         \u001b[38;5;28;01mreturn\u001b[39;00m [\n\u001b[1;32m     79\u001b[0m             \u001b[38;5;28mlen\u001b[39m(df),  \u001b[38;5;66;03m# Total impressions\u001b[39;00m\n\u001b[1;32m     80\u001b[0m             df[\u001b[38;5;124m\"\u001b[39m\u001b[38;5;124mcpm\u001b[39m\u001b[38;5;124m\"\u001b[39m]\u001b[38;5;241m.\u001b[39mmean() \u001b[38;5;28;01mif\u001b[39;00m \u001b[38;5;124m\"\u001b[39m\u001b[38;5;124mcpm\u001b[39m\u001b[38;5;124m\"\u001b[39m \u001b[38;5;129;01min\u001b[39;00m df \u001b[38;5;129;01mand\u001b[39;00m \u001b[38;5;129;01mnot\u001b[39;00m df[\u001b[38;5;124m\"\u001b[39m\u001b[38;5;124mcpm\u001b[39m\u001b[38;5;124m\"\u001b[39m]\u001b[38;5;241m.\u001b[39misna()\u001b[38;5;241m.\u001b[39mall() \u001b[38;5;28;01melse\u001b[39;00m \u001b[38;5;241m0\u001b[39m,  \u001b[38;5;66;03m# Average CPM\u001b[39;00m\n\u001b[0;32m   (...)\u001b[0m\n\u001b[1;32m     85\u001b[0m             (df[\u001b[38;5;124m\"\u001b[39m\u001b[38;5;124mplacement\u001b[39m\u001b[38;5;124m\"\u001b[39m] \u001b[38;5;241m==\u001b[39m \u001b[38;5;124m\"\u001b[39m\u001b[38;5;124mrv\u001b[39m\u001b[38;5;124m\"\u001b[39m)\u001b[38;5;241m.\u001b[39msum() \u001b[38;5;28;01mif\u001b[39;00m \u001b[38;5;124m\"\u001b[39m\u001b[38;5;124mplacement\u001b[39m\u001b[38;5;124m\"\u001b[39m \u001b[38;5;129;01min\u001b[39;00m df \u001b[38;5;28;01melse\u001b[39;00m \u001b[38;5;241m0\u001b[39m,  \u001b[38;5;66;03m# Count of Rewarded Ads\u001b[39;00m\n\u001b[1;32m     86\u001b[0m         ]\n\u001b[1;32m     87\u001b[0m     \u001b[38;5;28;01melse\u001b[39;00m:\n\u001b[1;32m     88\u001b[0m         \u001b[38;5;66;03m# Return default values if row is not a list\u001b[39;00m\n",
      "File \u001b[0;32m~/daftlearning/venv/lib/python3.12/site-packages/pandas/core/frame.py:922\u001b[0m, in \u001b[0;36mDataFrame.__init__\u001b[0;34m(self, data, index, columns, dtype, copy)\u001b[0m\n\u001b[1;32m    912\u001b[0m         mgr \u001b[38;5;241m=\u001b[39m ndarray_to_mgr(\n\u001b[1;32m    913\u001b[0m             arr2d,\n\u001b[1;32m    914\u001b[0m             index,\n\u001b[0;32m   (...)\u001b[0m\n\u001b[1;32m    918\u001b[0m             typ\u001b[38;5;241m=\u001b[39mmanager,\n\u001b[1;32m    919\u001b[0m         )\n\u001b[1;32m    921\u001b[0m \u001b[38;5;66;03m# ensure correct Manager type according to settings\u001b[39;00m\n\u001b[0;32m--> 922\u001b[0m mgr \u001b[38;5;241m=\u001b[39m \u001b[43mmgr_to_mgr\u001b[49m\u001b[43m(\u001b[49m\u001b[43mmgr\u001b[49m\u001b[43m,\u001b[49m\u001b[43m \u001b[49m\u001b[43mtyp\u001b[49m\u001b[38;5;241;43m=\u001b[39;49m\u001b[43mmanager\u001b[49m\u001b[43m)\u001b[49m\n\u001b[1;32m    924\u001b[0m NDFrame\u001b[38;5;241m.\u001b[39m\u001b[38;5;21m__init__\u001b[39m(\u001b[38;5;28mself\u001b[39m, mgr)\n\u001b[1;32m    926\u001b[0m \u001b[38;5;28;01mif\u001b[39;00m original_dtype \u001b[38;5;129;01mis\u001b[39;00m \u001b[38;5;28;01mNone\u001b[39;00m \u001b[38;5;129;01mand\u001b[39;00m is_pandas_object \u001b[38;5;129;01mand\u001b[39;00m data_dtype \u001b[38;5;241m==\u001b[39m np\u001b[38;5;241m.\u001b[39mobject_:\n",
      "File \u001b[0;32m~/daftlearning/venv/lib/python3.12/site-packages/pandas/core/internals/construction.py:196\u001b[0m, in \u001b[0;36mmgr_to_mgr\u001b[0;34m(mgr, typ, copy)\u001b[0m\n\u001b[1;32m    192\u001b[0m         mgr \u001b[38;5;241m=\u001b[39m mgr\u001b[38;5;241m.\u001b[39mcopy()\n\u001b[1;32m    193\u001b[0m     \u001b[38;5;28;01mreturn\u001b[39;00m mgr\n\u001b[0;32m--> 196\u001b[0m \u001b[38;5;28;01mdef\u001b[39;00m \u001b[38;5;21mmgr_to_mgr\u001b[39m(mgr, typ: \u001b[38;5;28mstr\u001b[39m, copy: \u001b[38;5;28mbool\u001b[39m \u001b[38;5;241m=\u001b[39m \u001b[38;5;28;01mTrue\u001b[39;00m) \u001b[38;5;241m-\u001b[39m\u001b[38;5;241m>\u001b[39m Manager:\n\u001b[1;32m    197\u001b[0m \u001b[38;5;250m    \u001b[39m\u001b[38;5;124;03m\"\"\"\u001b[39;00m\n\u001b[1;32m    198\u001b[0m \u001b[38;5;124;03m    Convert to specific type of Manager. Does not copy if the type is already\u001b[39;00m\n\u001b[1;32m    199\u001b[0m \u001b[38;5;124;03m    correct. Does not guarantee a copy otherwise. `copy` keyword only controls\u001b[39;00m\n\u001b[1;32m    200\u001b[0m \u001b[38;5;124;03m    whether conversion from Block->ArrayManager copies the 1D arrays.\u001b[39;00m\n\u001b[1;32m    201\u001b[0m \u001b[38;5;124;03m    \"\"\"\u001b[39;00m\n\u001b[1;32m    202\u001b[0m     new_mgr: Manager\n",
      "\u001b[0;31mKeyboardInterrupt\u001b[0m: "
     ]
    }
   ],
   "source": [
    "test_data = loaded_pipeline.transform(test_transformed)"
   ]
  },
  {
   "cell_type": "code",
   "execution_count": 35,
   "id": "2b2de9d8-2c94-4676-8304-026eb57e2a81",
   "metadata": {},
   "outputs": [
    {
     "data": {
      "text/plain": [
       "True"
      ]
     },
     "execution_count": 35,
     "metadata": {},
     "output_type": "execute_result"
    }
   ],
   "source": [
    "all(test_data.dtypes.apply(lambda dtype: pd.api.types.is_numeric_dtype(dtype)))"
   ]
  },
  {
   "cell_type": "code",
   "execution_count": 38,
   "id": "8c2c074c-b531-4531-bdf9-87c1c538ba36",
   "metadata": {},
   "outputs": [],
   "source": [
    "train_data.to_csv(\"train_transformed.csv\")"
   ]
  },
  {
   "cell_type": "code",
   "execution_count": 14,
   "id": "fd35ed58-304e-46d3-8367-76e2edd55a01",
   "metadata": {},
   "outputs": [],
   "source": [
    "train_data = pd.read_csv(\"train_transformed.csv\")"
   ]
  },
  {
   "cell_type": "code",
   "execution_count": 39,
   "id": "f2034ff7-3bb1-43bc-b111-f2113368925f",
   "metadata": {},
   "outputs": [],
   "source": [
    "test_data.to_csv(\"test_transformed.csv\")"
   ]
  },
  {
   "cell_type": "code",
   "execution_count": 15,
   "id": "b9a6f248-039a-4e9e-8d75-e428dab2ad2b",
   "metadata": {},
   "outputs": [],
   "source": [
    "test_data = pd.read_csv(\"test_transformed.csv\")"
   ]
  },
  {
   "cell_type": "markdown",
   "id": "4fa23671-6a8f-46dd-bfe1-d9f6b0c9934c",
   "metadata": {},
   "source": [
    "## 5- Model training"
   ]
  },
  {
   "cell_type": "code",
   "execution_count": 16,
   "id": "f5d2d1f0-0892-4650-b4e7-a28fb1b0da56",
   "metadata": {},
   "outputs": [],
   "source": [
    "from imblearn.over_sampling import SMOTE"
   ]
  },
  {
   "cell_type": "code",
   "execution_count": 23,
   "id": "8a7b7232-cc5a-432a-b3cd-59e91f7dcb1e",
   "metadata": {},
   "outputs": [],
   "source": [
    "train['hour_of_day'] = train['bid_timestamp'].dt.hour\n",
    "train['day_of_week'] = train['bid_timestamp'].dt.dayofweek\n",
    "train['bid_since_install'] = (train['bid_timestamp'] - train['install_date']).dt.days\n",
    "train['play_time_ratio'] = train['play_time'] / train['total_time'].replace(0, np.nan)\n",
    "train['game_count_time_interaction'] = train['game_count'] * train['total_time']"
   ]
  },
  {
   "cell_type": "code",
   "execution_count": 24,
   "id": "e8db2d71-3fa9-450c-81f9-056ff08c0719",
   "metadata": {},
   "outputs": [],
   "source": [
    "test['hour_of_day'] = test['bid_timestamp'].dt.hour\n",
    "test['day_of_week'] = test['bid_timestamp'].dt.dayofweek\n",
    "test['bid_since_install'] = (test['bid_timestamp'] - test['install_date']).dt.days\n",
    "test['play_time_ratio'] = test['play_time'] / test['total_time'].replace(0, np.nan)\n",
    "test['game_count_time_interaction'] = test['game_count'] * test['total_time']"
   ]
  },
  {
   "cell_type": "code",
   "execution_count": 25,
   "id": "7bad8fc4-d973-44e7-a2ed-e642ca14e739",
   "metadata": {},
   "outputs": [],
   "source": [
    "merged_df = pd.merge(train_data,train[[\"bid_timestamp\", 'hour_of_day','day_of_week','bid_since_install','play_time_ratio' ,'game_count_time_interaction']], left_index=True, right_index=True).set_index(\"bid_timestamp\")"
   ]
  },
  {
   "cell_type": "code",
   "execution_count": 26,
   "id": "dc00659d-8706-40d4-9a75-7e6b26cab6b4",
   "metadata": {},
   "outputs": [],
   "source": [
    "merged_test = pd.merge(test_data,test[[\"bid_timestamp\",'hour_of_day','day_of_week','bid_since_install','play_time_ratio' ,'game_count_time_interaction']], left_index=True, right_index=True).set_index(\"bid_timestamp\")"
   ]
  },
  {
   "cell_type": "code",
   "execution_count": 27,
   "id": "60e23657-15a5-4af7-ad1d-a980d7b04246",
   "metadata": {},
   "outputs": [],
   "source": [
    "merged_df = merged_df.drop(columns = [\"Unnamed: 0\"])"
   ]
  },
  {
   "cell_type": "code",
   "execution_count": 28,
   "id": "4a6b3969-1a68-4589-9fe7-446d51ce0ed2",
   "metadata": {},
   "outputs": [],
   "source": [
    "merged_test = merged_test.drop(columns = [\"Unnamed: 0\"])"
   ]
  },
  {
   "cell_type": "code",
   "execution_count": 29,
   "id": "537e7915-7108-4282-a1c5-9bdafef22289",
   "metadata": {},
   "outputs": [],
   "source": [
    "train_x = merged_df#.values  \n",
    "train_y = train[\"install_label\"]#.values"
   ]
  },
  {
   "cell_type": "code",
   "execution_count": 30,
   "id": "89c20aac-3be3-481d-b6d9-ace3d9a6a279",
   "metadata": {},
   "outputs": [],
   "source": [
    "test_x = merged_test#.values  \n",
    "test_y = test[\"install_label\"]#.values"
   ]
  },
  {
   "cell_type": "code",
   "execution_count": 31,
   "id": "be1d5492-9cfb-4343-b027-ee1168584721",
   "metadata": {},
   "outputs": [
    {
     "data": {
      "text/plain": [
       "np.float64(31.2809735941636)"
      ]
     },
     "execution_count": 31,
     "metadata": {},
     "output_type": "execute_result"
    }
   ],
   "source": [
    "# Calculate the ratio of negatives to positives\n",
    "negative_count = np.sum(train_y == 0)\n",
    "positive_count = np.sum(train_y == 1)\n",
    "\n",
    "ratio_of_negative_to_positive = negative_count / positive_count\n",
    "ratio_of_negative_to_positive"
   ]
  },
  {
   "cell_type": "code",
   "execution_count": 32,
   "id": "271045fe-4cd2-47ca-8dbc-f5ce693bae57",
   "metadata": {},
   "outputs": [],
   "source": [
    "\n",
    "# Initialize SMOTE\n",
    "smote = SMOTE(sampling_strategy=0.15, random_state=42)\n",
    "\n",
    "# Apply SMOTE to the training data\n",
    "X_train_res, y_train_res = smote.fit_resample(train_x.fillna(0), train_y)\n"
   ]
  },
  {
   "cell_type": "code",
   "execution_count": 33,
   "id": "695f7b0d-4176-4976-93d2-bd386f1624f0",
   "metadata": {},
   "outputs": [],
   "source": [
    "# Combine the resampled data back into a DataFrame\n",
    "train_data_resampled = pd.concat([X_train_res, y_train_res], axis=1)\n",
    "\n",
    "# Sort the resampled data by the 'bid_timestamp' column\n",
    "train_data_resampled = train_data_resampled.sort_index()"
   ]
  },
  {
   "cell_type": "code",
   "execution_count": 34,
   "id": "5307b7b2-c13e-4ab2-a8b9-e73adc901501",
   "metadata": {},
   "outputs": [],
   "source": [
    "X_train_resampled = train_data_resampled.drop(columns=['install_label'])\n",
    "y_train_resampled = train_data_resampled['install_label']"
   ]
  },
  {
   "cell_type": "code",
   "execution_count": 60,
   "id": "9cafa9f0-b22f-4dcb-928c-8971a784e5ae",
   "metadata": {},
   "outputs": [
    {
     "name": "stderr",
     "output_type": "stream",
     "text": [
      "/home/python/daftlearning/venv/lib/python3.12/site-packages/xgboost/core.py:158: UserWarning: [00:41:23] WARNING: /workspace/src/learner.cc:740: \n",
      "Parameters: { \"lambda_\", \"use_label_encoder\" } are not used.\n",
      "\n",
      "  warnings.warn(smsg, UserWarning)\n"
     ]
    },
    {
     "data": {
      "text/html": [
       "<style>#sk-container-id-5 {\n",
       "  /* Definition of color scheme common for light and dark mode */\n",
       "  --sklearn-color-text: black;\n",
       "  --sklearn-color-line: gray;\n",
       "  /* Definition of color scheme for unfitted estimators */\n",
       "  --sklearn-color-unfitted-level-0: #fff5e6;\n",
       "  --sklearn-color-unfitted-level-1: #f6e4d2;\n",
       "  --sklearn-color-unfitted-level-2: #ffe0b3;\n",
       "  --sklearn-color-unfitted-level-3: chocolate;\n",
       "  /* Definition of color scheme for fitted estimators */\n",
       "  --sklearn-color-fitted-level-0: #f0f8ff;\n",
       "  --sklearn-color-fitted-level-1: #d4ebff;\n",
       "  --sklearn-color-fitted-level-2: #b3dbfd;\n",
       "  --sklearn-color-fitted-level-3: cornflowerblue;\n",
       "\n",
       "  /* Specific color for light theme */\n",
       "  --sklearn-color-text-on-default-background: var(--sg-text-color, var(--theme-code-foreground, var(--jp-content-font-color1, black)));\n",
       "  --sklearn-color-background: var(--sg-background-color, var(--theme-background, var(--jp-layout-color0, white)));\n",
       "  --sklearn-color-border-box: var(--sg-text-color, var(--theme-code-foreground, var(--jp-content-font-color1, black)));\n",
       "  --sklearn-color-icon: #696969;\n",
       "\n",
       "  @media (prefers-color-scheme: dark) {\n",
       "    /* Redefinition of color scheme for dark theme */\n",
       "    --sklearn-color-text-on-default-background: var(--sg-text-color, var(--theme-code-foreground, var(--jp-content-font-color1, white)));\n",
       "    --sklearn-color-background: var(--sg-background-color, var(--theme-background, var(--jp-layout-color0, #111)));\n",
       "    --sklearn-color-border-box: var(--sg-text-color, var(--theme-code-foreground, var(--jp-content-font-color1, white)));\n",
       "    --sklearn-color-icon: #878787;\n",
       "  }\n",
       "}\n",
       "\n",
       "#sk-container-id-5 {\n",
       "  color: var(--sklearn-color-text);\n",
       "}\n",
       "\n",
       "#sk-container-id-5 pre {\n",
       "  padding: 0;\n",
       "}\n",
       "\n",
       "#sk-container-id-5 input.sk-hidden--visually {\n",
       "  border: 0;\n",
       "  clip: rect(1px 1px 1px 1px);\n",
       "  clip: rect(1px, 1px, 1px, 1px);\n",
       "  height: 1px;\n",
       "  margin: -1px;\n",
       "  overflow: hidden;\n",
       "  padding: 0;\n",
       "  position: absolute;\n",
       "  width: 1px;\n",
       "}\n",
       "\n",
       "#sk-container-id-5 div.sk-dashed-wrapped {\n",
       "  border: 1px dashed var(--sklearn-color-line);\n",
       "  margin: 0 0.4em 0.5em 0.4em;\n",
       "  box-sizing: border-box;\n",
       "  padding-bottom: 0.4em;\n",
       "  background-color: var(--sklearn-color-background);\n",
       "}\n",
       "\n",
       "#sk-container-id-5 div.sk-container {\n",
       "  /* jupyter's `normalize.less` sets `[hidden] { display: none; }`\n",
       "     but bootstrap.min.css set `[hidden] { display: none !important; }`\n",
       "     so we also need the `!important` here to be able to override the\n",
       "     default hidden behavior on the sphinx rendered scikit-learn.org.\n",
       "     See: https://github.com/scikit-learn/scikit-learn/issues/21755 */\n",
       "  display: inline-block !important;\n",
       "  position: relative;\n",
       "}\n",
       "\n",
       "#sk-container-id-5 div.sk-text-repr-fallback {\n",
       "  display: none;\n",
       "}\n",
       "\n",
       "div.sk-parallel-item,\n",
       "div.sk-serial,\n",
       "div.sk-item {\n",
       "  /* draw centered vertical line to link estimators */\n",
       "  background-image: linear-gradient(var(--sklearn-color-text-on-default-background), var(--sklearn-color-text-on-default-background));\n",
       "  background-size: 2px 100%;\n",
       "  background-repeat: no-repeat;\n",
       "  background-position: center center;\n",
       "}\n",
       "\n",
       "/* Parallel-specific style estimator block */\n",
       "\n",
       "#sk-container-id-5 div.sk-parallel-item::after {\n",
       "  content: \"\";\n",
       "  width: 100%;\n",
       "  border-bottom: 2px solid var(--sklearn-color-text-on-default-background);\n",
       "  flex-grow: 1;\n",
       "}\n",
       "\n",
       "#sk-container-id-5 div.sk-parallel {\n",
       "  display: flex;\n",
       "  align-items: stretch;\n",
       "  justify-content: center;\n",
       "  background-color: var(--sklearn-color-background);\n",
       "  position: relative;\n",
       "}\n",
       "\n",
       "#sk-container-id-5 div.sk-parallel-item {\n",
       "  display: flex;\n",
       "  flex-direction: column;\n",
       "}\n",
       "\n",
       "#sk-container-id-5 div.sk-parallel-item:first-child::after {\n",
       "  align-self: flex-end;\n",
       "  width: 50%;\n",
       "}\n",
       "\n",
       "#sk-container-id-5 div.sk-parallel-item:last-child::after {\n",
       "  align-self: flex-start;\n",
       "  width: 50%;\n",
       "}\n",
       "\n",
       "#sk-container-id-5 div.sk-parallel-item:only-child::after {\n",
       "  width: 0;\n",
       "}\n",
       "\n",
       "/* Serial-specific style estimator block */\n",
       "\n",
       "#sk-container-id-5 div.sk-serial {\n",
       "  display: flex;\n",
       "  flex-direction: column;\n",
       "  align-items: center;\n",
       "  background-color: var(--sklearn-color-background);\n",
       "  padding-right: 1em;\n",
       "  padding-left: 1em;\n",
       "}\n",
       "\n",
       "\n",
       "/* Toggleable style: style used for estimator/Pipeline/ColumnTransformer box that is\n",
       "clickable and can be expanded/collapsed.\n",
       "- Pipeline and ColumnTransformer use this feature and define the default style\n",
       "- Estimators will overwrite some part of the style using the `sk-estimator` class\n",
       "*/\n",
       "\n",
       "/* Pipeline and ColumnTransformer style (default) */\n",
       "\n",
       "#sk-container-id-5 div.sk-toggleable {\n",
       "  /* Default theme specific background. It is overwritten whether we have a\n",
       "  specific estimator or a Pipeline/ColumnTransformer */\n",
       "  background-color: var(--sklearn-color-background);\n",
       "}\n",
       "\n",
       "/* Toggleable label */\n",
       "#sk-container-id-5 label.sk-toggleable__label {\n",
       "  cursor: pointer;\n",
       "  display: block;\n",
       "  width: 100%;\n",
       "  margin-bottom: 0;\n",
       "  padding: 0.5em;\n",
       "  box-sizing: border-box;\n",
       "  text-align: center;\n",
       "}\n",
       "\n",
       "#sk-container-id-5 label.sk-toggleable__label-arrow:before {\n",
       "  /* Arrow on the left of the label */\n",
       "  content: \"▸\";\n",
       "  float: left;\n",
       "  margin-right: 0.25em;\n",
       "  color: var(--sklearn-color-icon);\n",
       "}\n",
       "\n",
       "#sk-container-id-5 label.sk-toggleable__label-arrow:hover:before {\n",
       "  color: var(--sklearn-color-text);\n",
       "}\n",
       "\n",
       "/* Toggleable content - dropdown */\n",
       "\n",
       "#sk-container-id-5 div.sk-toggleable__content {\n",
       "  max-height: 0;\n",
       "  max-width: 0;\n",
       "  overflow: hidden;\n",
       "  text-align: left;\n",
       "  /* unfitted */\n",
       "  background-color: var(--sklearn-color-unfitted-level-0);\n",
       "}\n",
       "\n",
       "#sk-container-id-5 div.sk-toggleable__content.fitted {\n",
       "  /* fitted */\n",
       "  background-color: var(--sklearn-color-fitted-level-0);\n",
       "}\n",
       "\n",
       "#sk-container-id-5 div.sk-toggleable__content pre {\n",
       "  margin: 0.2em;\n",
       "  border-radius: 0.25em;\n",
       "  color: var(--sklearn-color-text);\n",
       "  /* unfitted */\n",
       "  background-color: var(--sklearn-color-unfitted-level-0);\n",
       "}\n",
       "\n",
       "#sk-container-id-5 div.sk-toggleable__content.fitted pre {\n",
       "  /* unfitted */\n",
       "  background-color: var(--sklearn-color-fitted-level-0);\n",
       "}\n",
       "\n",
       "#sk-container-id-5 input.sk-toggleable__control:checked~div.sk-toggleable__content {\n",
       "  /* Expand drop-down */\n",
       "  max-height: 200px;\n",
       "  max-width: 100%;\n",
       "  overflow: auto;\n",
       "}\n",
       "\n",
       "#sk-container-id-5 input.sk-toggleable__control:checked~label.sk-toggleable__label-arrow:before {\n",
       "  content: \"▾\";\n",
       "}\n",
       "\n",
       "/* Pipeline/ColumnTransformer-specific style */\n",
       "\n",
       "#sk-container-id-5 div.sk-label input.sk-toggleable__control:checked~label.sk-toggleable__label {\n",
       "  color: var(--sklearn-color-text);\n",
       "  background-color: var(--sklearn-color-unfitted-level-2);\n",
       "}\n",
       "\n",
       "#sk-container-id-5 div.sk-label.fitted input.sk-toggleable__control:checked~label.sk-toggleable__label {\n",
       "  background-color: var(--sklearn-color-fitted-level-2);\n",
       "}\n",
       "\n",
       "/* Estimator-specific style */\n",
       "\n",
       "/* Colorize estimator box */\n",
       "#sk-container-id-5 div.sk-estimator input.sk-toggleable__control:checked~label.sk-toggleable__label {\n",
       "  /* unfitted */\n",
       "  background-color: var(--sklearn-color-unfitted-level-2);\n",
       "}\n",
       "\n",
       "#sk-container-id-5 div.sk-estimator.fitted input.sk-toggleable__control:checked~label.sk-toggleable__label {\n",
       "  /* fitted */\n",
       "  background-color: var(--sklearn-color-fitted-level-2);\n",
       "}\n",
       "\n",
       "#sk-container-id-5 div.sk-label label.sk-toggleable__label,\n",
       "#sk-container-id-5 div.sk-label label {\n",
       "  /* The background is the default theme color */\n",
       "  color: var(--sklearn-color-text-on-default-background);\n",
       "}\n",
       "\n",
       "/* On hover, darken the color of the background */\n",
       "#sk-container-id-5 div.sk-label:hover label.sk-toggleable__label {\n",
       "  color: var(--sklearn-color-text);\n",
       "  background-color: var(--sklearn-color-unfitted-level-2);\n",
       "}\n",
       "\n",
       "/* Label box, darken color on hover, fitted */\n",
       "#sk-container-id-5 div.sk-label.fitted:hover label.sk-toggleable__label.fitted {\n",
       "  color: var(--sklearn-color-text);\n",
       "  background-color: var(--sklearn-color-fitted-level-2);\n",
       "}\n",
       "\n",
       "/* Estimator label */\n",
       "\n",
       "#sk-container-id-5 div.sk-label label {\n",
       "  font-family: monospace;\n",
       "  font-weight: bold;\n",
       "  display: inline-block;\n",
       "  line-height: 1.2em;\n",
       "}\n",
       "\n",
       "#sk-container-id-5 div.sk-label-container {\n",
       "  text-align: center;\n",
       "}\n",
       "\n",
       "/* Estimator-specific */\n",
       "#sk-container-id-5 div.sk-estimator {\n",
       "  font-family: monospace;\n",
       "  border: 1px dotted var(--sklearn-color-border-box);\n",
       "  border-radius: 0.25em;\n",
       "  box-sizing: border-box;\n",
       "  margin-bottom: 0.5em;\n",
       "  /* unfitted */\n",
       "  background-color: var(--sklearn-color-unfitted-level-0);\n",
       "}\n",
       "\n",
       "#sk-container-id-5 div.sk-estimator.fitted {\n",
       "  /* fitted */\n",
       "  background-color: var(--sklearn-color-fitted-level-0);\n",
       "}\n",
       "\n",
       "/* on hover */\n",
       "#sk-container-id-5 div.sk-estimator:hover {\n",
       "  /* unfitted */\n",
       "  background-color: var(--sklearn-color-unfitted-level-2);\n",
       "}\n",
       "\n",
       "#sk-container-id-5 div.sk-estimator.fitted:hover {\n",
       "  /* fitted */\n",
       "  background-color: var(--sklearn-color-fitted-level-2);\n",
       "}\n",
       "\n",
       "/* Specification for estimator info (e.g. \"i\" and \"?\") */\n",
       "\n",
       "/* Common style for \"i\" and \"?\" */\n",
       "\n",
       ".sk-estimator-doc-link,\n",
       "a:link.sk-estimator-doc-link,\n",
       "a:visited.sk-estimator-doc-link {\n",
       "  float: right;\n",
       "  font-size: smaller;\n",
       "  line-height: 1em;\n",
       "  font-family: monospace;\n",
       "  background-color: var(--sklearn-color-background);\n",
       "  border-radius: 1em;\n",
       "  height: 1em;\n",
       "  width: 1em;\n",
       "  text-decoration: none !important;\n",
       "  margin-left: 1ex;\n",
       "  /* unfitted */\n",
       "  border: var(--sklearn-color-unfitted-level-1) 1pt solid;\n",
       "  color: var(--sklearn-color-unfitted-level-1);\n",
       "}\n",
       "\n",
       ".sk-estimator-doc-link.fitted,\n",
       "a:link.sk-estimator-doc-link.fitted,\n",
       "a:visited.sk-estimator-doc-link.fitted {\n",
       "  /* fitted */\n",
       "  border: var(--sklearn-color-fitted-level-1) 1pt solid;\n",
       "  color: var(--sklearn-color-fitted-level-1);\n",
       "}\n",
       "\n",
       "/* On hover */\n",
       "div.sk-estimator:hover .sk-estimator-doc-link:hover,\n",
       ".sk-estimator-doc-link:hover,\n",
       "div.sk-label-container:hover .sk-estimator-doc-link:hover,\n",
       ".sk-estimator-doc-link:hover {\n",
       "  /* unfitted */\n",
       "  background-color: var(--sklearn-color-unfitted-level-3);\n",
       "  color: var(--sklearn-color-background);\n",
       "  text-decoration: none;\n",
       "}\n",
       "\n",
       "div.sk-estimator.fitted:hover .sk-estimator-doc-link.fitted:hover,\n",
       ".sk-estimator-doc-link.fitted:hover,\n",
       "div.sk-label-container:hover .sk-estimator-doc-link.fitted:hover,\n",
       ".sk-estimator-doc-link.fitted:hover {\n",
       "  /* fitted */\n",
       "  background-color: var(--sklearn-color-fitted-level-3);\n",
       "  color: var(--sklearn-color-background);\n",
       "  text-decoration: none;\n",
       "}\n",
       "\n",
       "/* Span, style for the box shown on hovering the info icon */\n",
       ".sk-estimator-doc-link span {\n",
       "  display: none;\n",
       "  z-index: 9999;\n",
       "  position: relative;\n",
       "  font-weight: normal;\n",
       "  right: .2ex;\n",
       "  padding: .5ex;\n",
       "  margin: .5ex;\n",
       "  width: min-content;\n",
       "  min-width: 20ex;\n",
       "  max-width: 50ex;\n",
       "  color: var(--sklearn-color-text);\n",
       "  box-shadow: 2pt 2pt 4pt #999;\n",
       "  /* unfitted */\n",
       "  background: var(--sklearn-color-unfitted-level-0);\n",
       "  border: .5pt solid var(--sklearn-color-unfitted-level-3);\n",
       "}\n",
       "\n",
       ".sk-estimator-doc-link.fitted span {\n",
       "  /* fitted */\n",
       "  background: var(--sklearn-color-fitted-level-0);\n",
       "  border: var(--sklearn-color-fitted-level-3);\n",
       "}\n",
       "\n",
       ".sk-estimator-doc-link:hover span {\n",
       "  display: block;\n",
       "}\n",
       "\n",
       "/* \"?\"-specific style due to the `<a>` HTML tag */\n",
       "\n",
       "#sk-container-id-5 a.estimator_doc_link {\n",
       "  float: right;\n",
       "  font-size: 1rem;\n",
       "  line-height: 1em;\n",
       "  font-family: monospace;\n",
       "  background-color: var(--sklearn-color-background);\n",
       "  border-radius: 1rem;\n",
       "  height: 1rem;\n",
       "  width: 1rem;\n",
       "  text-decoration: none;\n",
       "  /* unfitted */\n",
       "  color: var(--sklearn-color-unfitted-level-1);\n",
       "  border: var(--sklearn-color-unfitted-level-1) 1pt solid;\n",
       "}\n",
       "\n",
       "#sk-container-id-5 a.estimator_doc_link.fitted {\n",
       "  /* fitted */\n",
       "  border: var(--sklearn-color-fitted-level-1) 1pt solid;\n",
       "  color: var(--sklearn-color-fitted-level-1);\n",
       "}\n",
       "\n",
       "/* On hover */\n",
       "#sk-container-id-5 a.estimator_doc_link:hover {\n",
       "  /* unfitted */\n",
       "  background-color: var(--sklearn-color-unfitted-level-3);\n",
       "  color: var(--sklearn-color-background);\n",
       "  text-decoration: none;\n",
       "}\n",
       "\n",
       "#sk-container-id-5 a.estimator_doc_link.fitted:hover {\n",
       "  /* fitted */\n",
       "  background-color: var(--sklearn-color-fitted-level-3);\n",
       "}\n",
       "</style><div id=\"sk-container-id-5\" class=\"sk-top-container\"><div class=\"sk-text-repr-fallback\"><pre>XGBClassifier(alpha=0.1, base_score=None, booster=None, callbacks=None,\n",
       "              colsample_bylevel=None, colsample_bynode=None,\n",
       "              colsample_bytree=0.8, device=None, early_stopping_rounds=None,\n",
       "              enable_categorical=False, eval_metric=None, feature_types=None,\n",
       "              gamma=None, grow_policy=None, importance_type=None,\n",
       "              interaction_constraints=None, lambda_=1, learning_rate=0.01,\n",
       "              max_bin=None, max_cat_threshold=None, max_cat_to_onehot=None,\n",
       "              max_delta_step=None, max_depth=6, max_leaves=None,\n",
       "              min_child_weight=None, missing=nan, monotone_constraints=None,\n",
       "              multi_strategy=None, n_estimators=400, n_jobs=None, ...)</pre><b>In a Jupyter environment, please rerun this cell to show the HTML representation or trust the notebook. <br />On GitHub, the HTML representation is unable to render, please try loading this page with nbviewer.org.</b></div><div class=\"sk-container\" hidden><div class=\"sk-item\"><div class=\"sk-estimator fitted sk-toggleable\"><input class=\"sk-toggleable__control sk-hidden--visually\" id=\"sk-estimator-id-5\" type=\"checkbox\" checked><label for=\"sk-estimator-id-5\" class=\"sk-toggleable__label fitted sk-toggleable__label-arrow fitted\">&nbsp;XGBClassifier<span class=\"sk-estimator-doc-link fitted\">i<span>Fitted</span></span></label><div class=\"sk-toggleable__content fitted\"><pre>XGBClassifier(alpha=0.1, base_score=None, booster=None, callbacks=None,\n",
       "              colsample_bylevel=None, colsample_bynode=None,\n",
       "              colsample_bytree=0.8, device=None, early_stopping_rounds=None,\n",
       "              enable_categorical=False, eval_metric=None, feature_types=None,\n",
       "              gamma=None, grow_policy=None, importance_type=None,\n",
       "              interaction_constraints=None, lambda_=1, learning_rate=0.01,\n",
       "              max_bin=None, max_cat_threshold=None, max_cat_to_onehot=None,\n",
       "              max_delta_step=None, max_depth=6, max_leaves=None,\n",
       "              min_child_weight=None, missing=nan, monotone_constraints=None,\n",
       "              multi_strategy=None, n_estimators=400, n_jobs=None, ...)</pre></div> </div></div></div></div>"
      ],
      "text/plain": [
       "XGBClassifier(alpha=0.1, base_score=None, booster=None, callbacks=None,\n",
       "              colsample_bylevel=None, colsample_bynode=None,\n",
       "              colsample_bytree=0.8, device=None, early_stopping_rounds=None,\n",
       "              enable_categorical=False, eval_metric=None, feature_types=None,\n",
       "              gamma=None, grow_policy=None, importance_type=None,\n",
       "              interaction_constraints=None, lambda_=1, learning_rate=0.01,\n",
       "              max_bin=None, max_cat_threshold=None, max_cat_to_onehot=None,\n",
       "              max_delta_step=None, max_depth=6, max_leaves=None,\n",
       "              min_child_weight=None, missing=nan, monotone_constraints=None,\n",
       "              multi_strategy=None, n_estimators=400, n_jobs=None, ...)"
      ]
     },
     "execution_count": 60,
     "metadata": {},
     "output_type": "execute_result"
    }
   ],
   "source": [
    "# Define the XGBoost model\n",
    "model = xgb.XGBClassifier(\n",
    "    n_estimators=400,\n",
    "    learning_rate=0.01,\n",
    "    max_depth=6,\n",
    "    objective='binary:logistic',  # For binary classification\n",
    "    use_label_encoder=False,     # Avoid label encoding warning\n",
    "    random_state=42,\n",
    "    subsample = 0.8,\n",
    "    colsample_bytree = 0.8,\n",
    "    #scale_pos_weight=10,\n",
    "    alpha=0.1,  # L1 regularization (Lasso)\n",
    "    lambda_=1,  # L2 regularization (Ridge)\n",
    ")\n",
    "\n",
    "# Train the model\n",
    "model.fit(\n",
    "    X_train_resampled,\n",
    "    y_train_resampled,  # Stop if performance doesn't improve\n",
    "    verbose=True\n",
    ")"
   ]
  },
  {
   "cell_type": "code",
   "execution_count": 61,
   "id": "da5ebd30-ae74-4b38-83b9-817531042e79",
   "metadata": {},
   "outputs": [],
   "source": [
    "from sklearn.isotonic import IsotonicRegression\n",
    "from sklearn.metrics import brier_score_loss"
   ]
  },
  {
   "cell_type": "code",
   "execution_count": 62,
   "id": "bcfc808a-61fc-4917-a41f-82df5c4a9697",
   "metadata": {},
   "outputs": [],
   "source": [
    "# Step 4: Get predicted probabilities (before calibration)\n",
    "train_probs = model.predict_proba(X_train_resampled)[:, 1]  # Probability for the positive class (class 1)\n",
    "test_probs = model.predict_proba(test_x)[:, 1]\n",
    "\n",
    "# Step 5: Fit an Isotonic Regression model to the predicted probabilities (on the train set)\n",
    "iso_regressor = IsotonicRegression(out_of_bounds='clip')  # Clip out-of-bound predictions\n",
    "iso_regressor.fit(train_probs, y_train_resampled)\n",
    "\n",
    "# Step 6: Calibrate the predicted probabilities using Isotonic Regression\n",
    "calibrated_train_probs = iso_regressor.transform(train_probs)\n",
    "calibrated_test_probs = iso_regressor.transform(test_probs)\n",
    "\n",
    "# Step 7: Evaluate the model performance before and after calibration\n",
    "roc_auc_before = roc_auc_score(test_y, test_probs)\n",
    "roc_auc_after = roc_auc_score(test_y, calibrated_test_probs)\n",
    "\n",
    "brier_before = brier_score_loss(test_y, test_probs)\n",
    "brier_after = brier_score_loss(test_y, calibrated_test_probs)"
   ]
  },
  {
   "cell_type": "code",
   "execution_count": 63,
   "id": "81921cd9-b4a5-474b-9a0d-8ed3211aefac",
   "metadata": {},
   "outputs": [
    {
     "data": {
      "text/plain": [
       "np.float64(0.6209276722339814)"
      ]
     },
     "execution_count": 63,
     "metadata": {},
     "output_type": "execute_result"
    }
   ],
   "source": [
    "roc_auc_before"
   ]
  },
  {
   "cell_type": "code",
   "execution_count": 64,
   "id": "7a5af2b0-2004-44c1-a99b-3b5955a6e371",
   "metadata": {},
   "outputs": [
    {
     "data": {
      "text/plain": [
       "np.float64(0.620843825923261)"
      ]
     },
     "execution_count": 64,
     "metadata": {},
     "output_type": "execute_result"
    }
   ],
   "source": [
    "roc_auc_after"
   ]
  },
  {
   "cell_type": "code",
   "execution_count": 66,
   "id": "709c4446-bb9b-42b5-9e26-b17429616133",
   "metadata": {},
   "outputs": [
    {
     "data": {
      "text/plain": [
       "['iso_regressor_test.pkl']"
      ]
     },
     "execution_count": 66,
     "metadata": {},
     "output_type": "execute_result"
    }
   ],
   "source": [
    "import joblib\n",
    "joblib.dump(iso_regressor, 'iso_regressor_test.pkl')"
   ]
  },
  {
   "cell_type": "code",
   "execution_count": null,
   "id": "e59e55ce-b951-473c-9b2c-6fe6f73a4bdf",
   "metadata": {},
   "outputs": [],
   "source": [
    "import joblib\n",
    "joblib.dump(model, 'xgboost_model.pkl')"
   ]
  },
  {
   "cell_type": "code",
   "execution_count": 76,
   "id": "c5c0a202-93cc-4707-a82d-474f7b5590cc",
   "metadata": {},
   "outputs": [
    {
     "data": {
      "image/png": "[encoded data removed]",
      "text/plain": [
       "<Figure size 640x480 with 1 Axes>"
      ]
     },
     "metadata": {},
     "output_type": "display_data"
    }
   ],
   "source": [
    "#y_prob = model.predict_proba(train_x)[:, 1]  # Get probability of class 1 (install)\n",
    "\n",
    "# Calculate precision-recall curve\n",
    "precision, recall, thresholds = precision_recall_curve(test_y, calibrated_test_probs)\n",
    "\n",
    "# Plot precision-recall curve\n",
    "plt.plot(recall, precision, color='b')\n",
    "plt.xlabel('Recall')\n",
    "plt.ylabel('Precision')\n",
    "plt.title('Precision-Recall curve')\n",
    "plt.show()"
   ]
  },
  {
   "cell_type": "code",
   "execution_count": 78,
   "id": "c82398fb-757a-45be-940c-ef3e2d33d115",
   "metadata": {},
   "outputs": [],
   "source": [
    "pr_auc = auc(recall, precision)"
   ]
  },
  {
   "cell_type": "code",
   "execution_count": 79,
   "id": "b2e4fad6-ce33-4198-abb8-55acc7fa3103",
   "metadata": {},
   "outputs": [
    {
     "data": {
      "text/plain": [
       "np.float64(0.04294250856378923)"
      ]
     },
     "execution_count": 79,
     "metadata": {},
     "output_type": "execute_result"
    }
   ],
   "source": [
    "pr_auc"
   ]
  },
  {
   "cell_type": "code",
   "execution_count": 77,
   "id": "fa1589a2-391d-4a46-8f68-51dc46314aaa",
   "metadata": {},
   "outputs": [
    {
     "name": "stdout",
     "output_type": "stream",
     "text": [
      "|   Threshold |   Precision |     Recall |\n",
      "|------------:|------------:|-----------:|\n",
      "|        0    |   0.03082   | 1          |\n",
      "|        0.01 |   0.0320325 | 0.991239   |\n",
      "|        0.02 |   0.0337913 | 0.956846   |\n",
      "|        0.03 |   0.0391214 | 0.85756    |\n",
      "|        0.04 |   0.0409431 | 0.789422   |\n",
      "|        0.05 |   0.0417646 | 0.743997   |\n",
      "|        0.06 |   0.0427562 | 0.667424   |\n",
      "|        0.07 |   0.042827  | 0.606749   |\n",
      "|        0.08 |   0.0430306 | 0.558728   |\n",
      "|        0.09 |   0.0431263 | 0.549643   |\n",
      "|        0.1  |   0.0431021 | 0.536665   |\n",
      "|        0.11 |   0.0430018 | 0.519468   |\n",
      "|        0.12 |   0.0429718 | 0.507463   |\n",
      "|        0.13 |   0.0429655 | 0.507138   |\n",
      "|        0.14 |   0.0432709 | 0.491564   |\n",
      "|        0.15 |   0.043302  | 0.48183    |\n",
      "|        0.16 |   0.0433334 | 0.476963   |\n",
      "|        0.17 |   0.0433347 | 0.476963   |\n",
      "|        0.18 |   0.0433753 | 0.45782    |\n",
      "|        0.19 |   0.0433753 | 0.45782    |\n",
      "|        0.2  |   0.0435311 | 0.452953   |\n",
      "|        0.21 |   0.0436206 | 0.445165   |\n",
      "|        0.22 |   0.0436234 | 0.445165   |\n",
      "|        0.23 |   0.0436234 | 0.445165   |\n",
      "|        0.24 |   0.0436005 | 0.432836   |\n",
      "|        0.25 |   0.043438  | 0.426022   |\n",
      "|        0.26 |   0.0434132 | 0.423751   |\n",
      "|        0.27 |   0.0434147 | 0.423751   |\n",
      "|        0.28 |   0.0434147 | 0.423751   |\n",
      "|        0.29 |   0.043562  | 0.410772   |\n",
      "|        0.3  |   0.043562  | 0.410772   |\n",
      "|        0.31 |   0.0435899 | 0.402012   |\n",
      "|        0.32 |   0.0435899 | 0.402012   |\n",
      "|        0.33 |   0.0435899 | 0.402012   |\n",
      "|        0.34 |   0.0436857 | 0.398118   |\n",
      "|        0.35 |   0.0436857 | 0.398118   |\n",
      "|        0.36 |   0.0436857 | 0.398118   |\n",
      "|        0.37 |   0.0436857 | 0.398118   |\n",
      "|        0.38 |   0.0439967 | 0.378326   |\n",
      "|        0.39 |   0.0439983 | 0.378326   |\n",
      "|        0.4  |   0.0440569 | 0.377028   |\n",
      "|        0.41 |   0.0440569 | 0.377028   |\n",
      "|        0.42 |   0.0440569 | 0.377028   |\n",
      "|        0.43 |   0.044079  | 0.37573    |\n",
      "|        0.44 |   0.0439367 | 0.363725   |\n",
      "|        0.45 |   0.0439367 | 0.363725   |\n",
      "|        0.46 |   0.0439384 | 0.363725   |\n",
      "|        0.47 |   0.0439418 | 0.363725   |\n",
      "|        0.48 |   0.0439418 | 0.363725   |\n",
      "|        0.49 |   0.0439436 | 0.363725   |\n",
      "|        0.5  |   0.0439436 | 0.363725   |\n",
      "|        0.51 |   0.0439436 | 0.363725   |\n",
      "|        0.52 |   0.0439453 | 0.363725   |\n",
      "|        0.53 |   0.0439453 | 0.363725   |\n",
      "|        0.54 |   0.0439487 | 0.363725   |\n",
      "|        0.55 |   0.043798  | 0.35172    |\n",
      "|        0.56 |   0.0439046 | 0.347177   |\n",
      "|        0.57 |   0.0439045 | 0.342959   |\n",
      "|        0.58 |   0.0439099 | 0.342959   |\n",
      "|        0.59 |   0.0438739 | 0.342635   |\n",
      "|        0.6  |   0.0437953 | 0.339066   |\n",
      "|        0.61 |   0.0438063 | 0.339066   |\n",
      "|        0.62 |   0.0438155 | 0.339066   |\n",
      "|        0.63 |   0.0439531 | 0.318624   |\n",
      "|        0.64 |   0.043959  | 0.318624   |\n",
      "|        0.65 |   0.0439688 | 0.318624   |\n",
      "|        0.66 |   0.0439807 | 0.318624   |\n",
      "|        0.67 |   0.0437112 | 0.315055   |\n",
      "|        0.68 |   0.0442017 | 0.30597    |\n",
      "|        0.69 |   0.044208  | 0.30597    |\n",
      "|        0.7  |   0.0442163 | 0.30597    |\n",
      "|        0.71 |   0.0442832 | 0.304997   |\n",
      "|        0.72 |   0.044325  | 0.304997   |\n",
      "|        0.73 |   0.0443333 | 0.304997   |\n",
      "|        0.74 |   0.043575  | 0.279689   |\n",
      "|        0.75 |   0.0435838 | 0.279689   |\n",
      "|        0.76 |   0.043608  | 0.279689   |\n",
      "|        0.77 |   0.0436262 | 0.278715   |\n",
      "|        0.78 |   0.0434621 | 0.266385   |\n",
      "|        0.79 |   0.0434714 | 0.266385   |\n",
      "|        0.8  |   0.0438864 | 0.251785   |\n",
      "|        0.81 |   0.0438889 | 0.251785   |\n",
      "|        0.82 |   0.045004  | 0.240104   |\n",
      "|        0.83 |   0.0450122 | 0.240104   |\n",
      "|        0.84 |   0.0449623 | 0.239779   |\n",
      "|        0.85 |   0.0446904 | 0.2122     |\n",
      "|        0.86 |   0.0446966 | 0.2122     |\n",
      "|        0.87 |   0.0447027 | 0.2122     |\n",
      "|        0.88 |   0.0445367 | 0.208955   |\n",
      "|        0.89 |   0.0446184 | 0.184945   |\n",
      "|        0.9  |   0.0442203 | 0.16645    |\n",
      "|        0.91 |   0.0442356 | 0.16645    |\n",
      "|        0.92 |   0.0442508 | 0.16645    |\n",
      "|        0.93 |   0.0430452 | 0.117781   |\n",
      "|        0.94 |   0.0430452 | 0.117781   |\n",
      "|        0.95 |   0.0431655 | 0.0856587  |\n",
      "|        0.96 |   0.0437259 | 0.0772226  |\n",
      "|        0.97 |   0.043758  | 0.0772226  |\n",
      "|        0.98 |   0.04275   | 0.0554835  |\n",
      "|        0.99 |   0.04275   | 0.0554835  |\n",
      "|        1    |   0.0300429 | 0.00227125 |\n"
     ]
    }
   ],
   "source": [
    "thresholds_1_percent = np.arange(0, 1.01, 0.01)  # Thresholds from 0 to 1 with a step of 0.01\n",
    "precision_at_thresholds = []\n",
    "recall_at_thresholds = []\n",
    "\n",
    "# For each threshold, find the corresponding precision and recall\n",
    "for t in thresholds_1_percent:\n",
    "    # Get the index of the closest threshold in the original precision-recall curve\n",
    "    idx = np.searchsorted(thresholds, t)\n",
    "    precision_at_thresholds.append(precision[idx])\n",
    "    recall_at_thresholds.append(recall[idx])\n",
    "\n",
    "# Create a DataFrame to display precision and recall at each threshold\n",
    "precision_recall_df = pd.DataFrame({\n",
    "    'Threshold': thresholds_1_percent,\n",
    "    'Precision': precision_at_thresholds,\n",
    "    'Recall': recall_at_thresholds\n",
    "})\n",
    "\n",
    "# Display the table\n",
    "\n",
    "print(precision_recall_df.set_index(\"Threshold\").to_markdown())"
   ]
  },
  {
   "cell_type": "code",
   "execution_count": 72,
   "id": "fc90cf14-71b4-4749-95a5-2d34ad03d28d",
   "metadata": {},
   "outputs": [],
   "source": [
    "from sklearn.metrics import roc_curve, auc\n",
    "fpr, tpr, thresholds = roc_curve(test_y, calibrated_test_probs)\n",
    "\n",
    "# Compute AUC (Area Under the Curve)\n",
    "roc_auc = auc(fpr, tpr)"
   ]
  },
  {
   "cell_type": "code",
   "execution_count": 73,
   "id": "23e0c08d-5f91-4c6f-a042-e39cd48df22c",
   "metadata": {},
   "outputs": [
    {
     "data": {
      "image/png": "[encoded data removed]",
      "text/plain": [
       "<Figure size 800x600 with 1 Axes>"
      ]
     },
     "metadata": {},
     "output_type": "display_data"
    }
   ],
   "source": [
    "plt.figure(figsize=(8, 6))\n",
    "plt.plot(fpr, tpr, color='darkorange', lw=2, label='ROC curve (area = %0.2f)' % roc_auc)\n",
    "plt.plot([0, 1], [0, 1], color='navy', lw=2, linestyle='--')  # Diagonal line (random model)\n",
    "plt.xlim([0.0, 1.0])\n",
    "plt.ylim([0.0, 1.05])\n",
    "plt.xlabel('False Positive Rate')\n",
    "plt.ylabel('True Positive Rate')\n",
    "plt.title('Receiver Operating Characteristic (ROC) Curve')\n",
    "plt.legend(loc=\"lower right\")\n",
    "plt.show()\n"
   ]
  },
  {
   "cell_type": "code",
   "execution_count": null,
   "id": "67ee5be3-8497-437c-937e-51470fbd9813",
   "metadata": {},
   "outputs": [],
   "source": []
  }
 ],
 "metadata": {
  "kernelspec": {
   "display_name": "Daftlearning",
   "language": "python",
   "name": "nth-daftlearning"
  },
  "language_info": {
   "codemirror_mode": {
    "name": "ipython",
    "version": 3
   },
   "file_extension": ".py",
   "mimetype": "text/x-python",
   "name": "python",
   "nbconvert_exporter": "python",
   "pygments_lexer": "ipython3",
   "version": "3.12.2"
  }
 },
 "nbformat": 4,
 "nbformat_minor": 5
}
